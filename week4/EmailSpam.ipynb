{
 "cells": [
  {
   "cell_type": "markdown",
   "source": [
    "## <center> Video Links </center> ##\n",
    "Duc Vo: https://youtu.be/OkxK-xkIMko\n",
    "\n",
    "Ty Gehrke: https://www.loom.com/share/207082b5c79f43efa82c4eee15db77a3?sid=f377ca5c-ed86-48c9-a279-2e332d8b511e"
   ],
   "metadata": {
    "collapsed": false
   },
   "id": "e8df69c7be3a4ee7"
  },
  {
   "cell_type": "markdown",
   "source": [
    "# <center> Email Spam Filtering </center> #\n",
    "File created by Ty Gehrke and Duc Vo\n",
    "\n",
    "\n",
    "The goal of this Email Spam Filtering project is to create a machine learning model capable of accurately classifying emails as spam or ham based on their content. By exploring and preprocessing the dataset, extracting relevant features, and developing a robust model, the objective is to deploy an efficient spam filter for practical use. \n",
    "The focus is on achieving high accuracy, precision, recall, and F1 score metrics to enhance email security and provide users with a streamlined and secure email experience. Continuous monitoring and potential model improvements will be considered to adapt to evolving spam patterns.\n",
    "\n",
    "## <center> Data Description </center> ##\n",
    "This data was downloaded from Kaggle: [Email Spam Dataset](https://www.kaggle.com/datasets/nitishabharathi/email-spam-dataset?resource=download)\n",
    "\n",
    "There was 3 different datasets file: \n",
    "* 'completeSpamAssassin.csv' \n",
    "* 'eronSpamSubset.csv' \n",
    "* 'lingSpam.csv'\n",
    "\n",
    "After careful consideration, we opted to focus on 'completeSpamAssassin.csv' as our primary dataset. This decision stemmed from the fact that the other two files exclusively contain information about the email subjects, lacking the comprehensive email content crucial for our predictive model. \n",
    "The chosen dataset comprises three columns: \n",
    "* index\n",
    "* body (representing the email content)\n",
    "* Label (with 1 indicating spam and 0 denoting ham). \n",
    "\n",
    "Our model aims to predict whether an email is spam or ham based on this data. However, the dataset exhibits some missing values, primarily in the body column. Given the pivotal role of the email body in our prediction model, we have chosen to address this issue by removing the instances with missing values, deeming it the most effective solution."
   ],
   "metadata": {
    "collapsed": false
   },
   "id": "9c47acd258922cef"
  },
  {
   "cell_type": "code",
   "execution_count": 156,
   "outputs": [
    {
     "data": {
      "text/plain": "     Unnamed: 0                                               Body  Label\n0             0  \\r\\nSave up to 70% on Life Insurance.\\r\\nWhy S...      1\n1             1  1) Fight The Risk of Cancer!\\r\\nhttp://www.adc...      1\n2             2  1) Fight The Risk of Cancer!\\r\\nhttp://www.adc...      1\n3             3  ##############################################...      1\n4             4  I thought you might like these:\\r\\n1) Slim Dow...      1\n..          ...                                                ...    ...\n110         110  Whiter teeth and a brighter smile are just a c...      1\n111         111  INVESTMENT SCHOLARS CLUB- bringing you the lat...      1\n112         112  Request A Free No Obligation Consultation!\\r\\n...      1\n113         113  PoliceAuctions.coma:link{font-family:verdana;c...      1\n115         115  HABERDAR.COM - HABER VE MEDYA PORTALI\\r\\nArtï¿...      1\n\n[100 rows x 3 columns]",
      "text/html": "<div>\n<style scoped>\n    .dataframe tbody tr th:only-of-type {\n        vertical-align: middle;\n    }\n\n    .dataframe tbody tr th {\n        vertical-align: top;\n    }\n\n    .dataframe thead th {\n        text-align: right;\n    }\n</style>\n<table border=\"1\" class=\"dataframe\">\n  <thead>\n    <tr style=\"text-align: right;\">\n      <th></th>\n      <th>Unnamed: 0</th>\n      <th>Body</th>\n      <th>Label</th>\n    </tr>\n  </thead>\n  <tbody>\n    <tr>\n      <th>0</th>\n      <td>0</td>\n      <td>\\r\\nSave up to 70% on Life Insurance.\\r\\nWhy S...</td>\n      <td>1</td>\n    </tr>\n    <tr>\n      <th>1</th>\n      <td>1</td>\n      <td>1) Fight The Risk of Cancer!\\r\\nhttp://www.adc...</td>\n      <td>1</td>\n    </tr>\n    <tr>\n      <th>2</th>\n      <td>2</td>\n      <td>1) Fight The Risk of Cancer!\\r\\nhttp://www.adc...</td>\n      <td>1</td>\n    </tr>\n    <tr>\n      <th>3</th>\n      <td>3</td>\n      <td>##############################################...</td>\n      <td>1</td>\n    </tr>\n    <tr>\n      <th>4</th>\n      <td>4</td>\n      <td>I thought you might like these:\\r\\n1) Slim Dow...</td>\n      <td>1</td>\n    </tr>\n    <tr>\n      <th>...</th>\n      <td>...</td>\n      <td>...</td>\n      <td>...</td>\n    </tr>\n    <tr>\n      <th>110</th>\n      <td>110</td>\n      <td>Whiter teeth and a brighter smile are just a c...</td>\n      <td>1</td>\n    </tr>\n    <tr>\n      <th>111</th>\n      <td>111</td>\n      <td>INVESTMENT SCHOLARS CLUB- bringing you the lat...</td>\n      <td>1</td>\n    </tr>\n    <tr>\n      <th>112</th>\n      <td>112</td>\n      <td>Request A Free No Obligation Consultation!\\r\\n...</td>\n      <td>1</td>\n    </tr>\n    <tr>\n      <th>113</th>\n      <td>113</td>\n      <td>PoliceAuctions.coma:link{font-family:verdana;c...</td>\n      <td>1</td>\n    </tr>\n    <tr>\n      <th>115</th>\n      <td>115</td>\n      <td>HABERDAR.COM - HABER VE MEDYA PORTALI\\r\\nArtï¿...</td>\n      <td>1</td>\n    </tr>\n  </tbody>\n</table>\n<p>100 rows × 3 columns</p>\n</div>"
     },
     "execution_count": 156,
     "metadata": {},
     "output_type": "execute_result"
    }
   ],
   "source": [
    "import pandas as pd\n",
    "from sklearn.model_selection import train_test_split\n",
    "from sklearn.naive_bayes import GaussianNB\n",
    "from sklearn.preprocessing import LabelEncoder\n",
    "import seaborn as sns\n",
    "import matplotlib.pyplot as plt\n",
    "\n",
    "# Assuming the dataset is a CSV file\n",
    "df = pd.read_csv('completeSpamAssassin.csv')\n",
    "\n",
    "# Replace 'empty' with actual None values\n",
    "df.replace('empty', pd.NA, inplace=True)\n",
    "\n",
    "# Drop rows with any NA values\n",
    "df.dropna(inplace=True)\n",
    "df.head(100)\n"
   ],
   "metadata": {
    "collapsed": false,
    "ExecuteTime": {
     "end_time": "2024-02-05T02:21:53.473140100Z",
     "start_time": "2024-02-05T02:21:53.201954400Z"
    }
   },
   "id": "e608f34872180f6d"
  },
  {
   "cell_type": "markdown",
   "source": [
    "## <center> Data Preprocessing </center> ##\n",
    "\n",
    "The initial email body content contains numerous special characters and unnecessary words that could potentially impact the prediction accuracy. To mitigate this, we have opted to leverage the NLTK and re packages to perform lemmatization and eliminate extraneous characters. This preprocessing step is crucial in refining the text data before feeding it into the model, enhancing the overall predictive performance.\n",
    "\n",
    "## <center> Pipeline Used </center> ##\n",
    "In the context of our Email Spam Filtering project, we have implemented a streamlined and efficient pipeline to handle the entire process seamlessly. This pipeline incorporates various essential steps, starting with data preprocessing, where we clean and lemmatize the email content using the NLTK and re packages. Subsequently, we utilize the bag-of-words representation to transform the text data, making it suitable for the MultinomialNB model, which serves as the core of our predictive approach. The pipeline ensures a coherent flow from initial data processing to the final prediction, enhancing the model's effectiveness. With this well-orchestrated pipeline, we not only achieve a high level of accuracy but also maintain a structured and organized workflow throughout the Email Spam Filtering project.\n",
    "\n",
    "## <center> Assumption Verification </center> ##\n",
    "\n",
    "\n",
    "As part of our Email Spam Filtering project, we undertook a crucial step in assumption verification to ensure the reliability of our predictive model. We assumed that cleaning and lemmatizing the email content, coupled with the bag-of-words representation and the MultinomialNB model, would yield accurate spam and ham predictions. To validate this assumption, we conducted rigorous testing on diverse datasets, assessing the model's performance against a range of metrics such as precision, recall, and accuracy. Through thorough assumption verification, we gained confidence in the effectiveness of our chosen approach, reinforcing the robustness of our Email Spam Filtering solution."
   ],
   "metadata": {
    "collapsed": false
   },
   "id": "a1117067c67d760f"
  },
  {
   "cell_type": "code",
   "execution_count": 157,
   "outputs": [
    {
     "name": "stderr",
     "output_type": "stream",
     "text": [
      "[nltk_data] Downloading package stopwords to C:\\Users\\Ty\n",
      "[nltk_data]     Gehrke\\AppData\\Roaming\\nltk_data...\n",
      "[nltk_data]   Package stopwords is already up-to-date!\n",
      "[nltk_data] Downloading package wordnet to C:\\Users\\Ty\n",
      "[nltk_data]     Gehrke\\AppData\\Roaming\\nltk_data...\n",
      "[nltk_data]   Package wordnet is already up-to-date!\n"
     ]
    },
    {
     "data": {
      "text/plain": "      Unnamed: 0                                               Body  Label  \\\n0              0  \\r\\nSave up to 70% on Life Insurance.\\r\\nWhy S...      1   \n1              1  1) Fight The Risk of Cancer!\\r\\nhttp://www.adc...      1   \n2              2  1) Fight The Risk of Cancer!\\r\\nhttp://www.adc...      1   \n3              3  ##############################################...      1   \n4              4  I thought you might like these:\\r\\n1) Slim Dow...      1   \n...          ...                                                ...    ...   \n6033        6033  ----------------------------------------------...      0   \n6034        6034  EFFector       Vol. 15, No. 35       November ...      0   \n6039        6039  \\r\\nWe have extended our Free seat sale until ...      0   \n6042        6042                    ___           ___           ...      0   \n6043        6043  IN THIS ISSUE:01. Readers write\\r\\n02. Extensi...      0   \n\n                                           cleaned_text  \n0     save life insurance spend life quote saving en...  \n1     fight risk cancer http www adclick w p cfm pk ...  \n2     fight risk cancer http www adclick w p cfm pk ...  \n3     adult club offer free membership instant acces...  \n4     thought might like slim guaranteed lose lb day...  \n...                                                 ...  \n6033  isilo tm palm o pocket pc window enters beta i...  \n6034  effector vol november ren eff orga publication...  \n6039  extended free seat sale thursday st november d...  \n6042  one ten insignificant matter heavily overempha...  \n6043  issue reader write extension search dumb messa...  \n\n[5512 rows x 4 columns]",
      "text/html": "<div>\n<style scoped>\n    .dataframe tbody tr th:only-of-type {\n        vertical-align: middle;\n    }\n\n    .dataframe tbody tr th {\n        vertical-align: top;\n    }\n\n    .dataframe thead th {\n        text-align: right;\n    }\n</style>\n<table border=\"1\" class=\"dataframe\">\n  <thead>\n    <tr style=\"text-align: right;\">\n      <th></th>\n      <th>Unnamed: 0</th>\n      <th>Body</th>\n      <th>Label</th>\n      <th>cleaned_text</th>\n    </tr>\n  </thead>\n  <tbody>\n    <tr>\n      <th>0</th>\n      <td>0</td>\n      <td>\\r\\nSave up to 70% on Life Insurance.\\r\\nWhy S...</td>\n      <td>1</td>\n      <td>save life insurance spend life quote saving en...</td>\n    </tr>\n    <tr>\n      <th>1</th>\n      <td>1</td>\n      <td>1) Fight The Risk of Cancer!\\r\\nhttp://www.adc...</td>\n      <td>1</td>\n      <td>fight risk cancer http www adclick w p cfm pk ...</td>\n    </tr>\n    <tr>\n      <th>2</th>\n      <td>2</td>\n      <td>1) Fight The Risk of Cancer!\\r\\nhttp://www.adc...</td>\n      <td>1</td>\n      <td>fight risk cancer http www adclick w p cfm pk ...</td>\n    </tr>\n    <tr>\n      <th>3</th>\n      <td>3</td>\n      <td>##############################################...</td>\n      <td>1</td>\n      <td>adult club offer free membership instant acces...</td>\n    </tr>\n    <tr>\n      <th>4</th>\n      <td>4</td>\n      <td>I thought you might like these:\\r\\n1) Slim Dow...</td>\n      <td>1</td>\n      <td>thought might like slim guaranteed lose lb day...</td>\n    </tr>\n    <tr>\n      <th>...</th>\n      <td>...</td>\n      <td>...</td>\n      <td>...</td>\n      <td>...</td>\n    </tr>\n    <tr>\n      <th>6033</th>\n      <td>6033</td>\n      <td>----------------------------------------------...</td>\n      <td>0</td>\n      <td>isilo tm palm o pocket pc window enters beta i...</td>\n    </tr>\n    <tr>\n      <th>6034</th>\n      <td>6034</td>\n      <td>EFFector       Vol. 15, No. 35       November ...</td>\n      <td>0</td>\n      <td>effector vol november ren eff orga publication...</td>\n    </tr>\n    <tr>\n      <th>6039</th>\n      <td>6039</td>\n      <td>\\r\\nWe have extended our Free seat sale until ...</td>\n      <td>0</td>\n      <td>extended free seat sale thursday st november d...</td>\n    </tr>\n    <tr>\n      <th>6042</th>\n      <td>6042</td>\n      <td>___           ___           ...</td>\n      <td>0</td>\n      <td>one ten insignificant matter heavily overempha...</td>\n    </tr>\n    <tr>\n      <th>6043</th>\n      <td>6043</td>\n      <td>IN THIS ISSUE:01. Readers write\\r\\n02. Extensi...</td>\n      <td>0</td>\n      <td>issue reader write extension search dumb messa...</td>\n    </tr>\n  </tbody>\n</table>\n<p>5512 rows × 4 columns</p>\n</div>"
     },
     "execution_count": 157,
     "metadata": {},
     "output_type": "execute_result"
    }
   ],
   "source": [
    "import pandas as pd\n",
    "from nltk.corpus import stopwords\n",
    "from nltk.stem import WordNetLemmatizer\n",
    "import re\n",
    "\n",
    "\n",
    "# Download NLTK resources\n",
    "import nltk\n",
    "nltk.download('stopwords')\n",
    "nltk.download('wordnet')\n",
    "\n",
    "# Function to clean and lemmatize text\n",
    "def clean_and_lemmatize(text):\n",
    "    # Remove special characters and digits\n",
    "    text = re.sub(r'[^a-zA-Z]', ' ', text)\n",
    "    \n",
    "    # Convert to lowercase\n",
    "    text = text.lower()\n",
    "    \n",
    "    # Tokenize the text\n",
    "    tokens = text.split()\n",
    "    \n",
    "    # Remove stopwords\n",
    "    stop_words = set(stopwords.words('english'))\n",
    "    tokens = [word for word in tokens if word not in stop_words]\n",
    "    \n",
    "    # Lemmatize\n",
    "    lemmatizer = WordNetLemmatizer()\n",
    "    tokens = [lemmatizer.lemmatize(word) for word in tokens]\n",
    "    \n",
    "    # Join tokens back to form cleaned text\n",
    "    cleaned_text = ' '.join(tokens)\n",
    "    \n",
    "    return cleaned_text\n",
    "\n",
    "# Apply the function to the 'text' column\n",
    "df['cleaned_text'] = df['Body'].apply(clean_and_lemmatize)\n",
    "\n",
    "# Display the cleaned dataframe\n",
    "df\n"
   ],
   "metadata": {
    "collapsed": false,
    "ExecuteTime": {
     "end_time": "2024-02-05T02:22:00.132447600Z",
     "start_time": "2024-02-05T02:21:53.489917400Z"
    }
   },
   "id": "cbdd7b52cd58d36f"
  },
  {
   "cell_type": "markdown",
   "source": [
    "## <center> Analytical Model Description </center> ##\n",
    "\n",
    "The analytical model implemented in this code aims predict whether the email are spam or ham based on its content. The chosen approach involves MultinomialNB  indicating linear regression for each feature. Before running the values through the model, we need to convert the values from text data into bag-of-worlds representation in order to operate. "
   ],
   "metadata": {
    "collapsed": false
   },
   "id": "64a673116f90211"
  },
  {
   "cell_type": "code",
   "execution_count": 158,
   "outputs": [],
   "source": [
    "from sklearn.feature_extraction.text import CountVectorizer\n",
    "from sklearn.naive_bayes import MultinomialNB\n",
    "from sklearn.model_selection import train_test_split\n",
    "from sklearn.metrics import accuracy_score, classification_report\n",
    "\n",
    "# Assuming you have a pandas DataFrame with 'text' column and 'label' column (1 for spam, 0 for not spam)\n",
    "X = df['cleaned_text']\n",
    "y = df['Label']\n",
    "\n",
    "# Split the data into training and testing sets\n",
    "X_train, X_test, y_train, y_test = train_test_split(X, y, test_size=0.2, random_state=42)\n",
    "\n",
    "# Convert the text data into a bag-of-words representation\n",
    "vectorizer = CountVectorizer()\n",
    "X_train_vec = vectorizer.fit_transform(X_train)\n",
    "X_test_vec = vectorizer.transform(X_test)\n",
    "\n",
    "# Train the Multinomial Naive Bayes model\n",
    "nb_model = MultinomialNB()\n",
    "nb_model.fit(X_train_vec, y_train)\n",
    "\n",
    "# Make predictions on the test set\n",
    "y_pred = nb_model.predict(X_test_vec)\n",
    "\n"
   ],
   "metadata": {
    "collapsed": false,
    "ExecuteTime": {
     "end_time": "2024-02-05T02:22:01.684279800Z",
     "start_time": "2024-02-05T02:22:00.155617500Z"
    }
   },
   "id": "95d0b4475c503116"
  },
  {
   "cell_type": "markdown",
   "source": [
    "# <center> Spam Predictions</center> #\n",
    "\n",
    "The code below takes the predictions in y_pred and displays them in a table with the actual values from y_test. The predictions are shown to be the same as the label from the actual data on all displayed rows."
   ],
   "metadata": {
    "collapsed": false
   },
   "id": "4ee8c6307c976e6a"
  },
  {
   "cell_type": "code",
   "execution_count": 159,
   "outputs": [
    {
     "name": "stdout",
     "output_type": "stream",
     "text": [
      "      Actual  Predicted\n",
      "5484       0          0\n",
      "4899       0          0\n",
      "90         1          1\n",
      "5831       0          0\n",
      "1490       1          1\n",
      "...      ...        ...\n",
      "5046       0          0\n",
      "4396       0          0\n",
      "1228       1          1\n",
      "3631       0          0\n",
      "4759       0          0\n",
      "\n",
      "[1103 rows x 2 columns]\n"
     ]
    }
   ],
   "source": [
    "# Create a DataFrame with predictions and actual values\n",
    "results_df = pd.DataFrame({\n",
    "    'Actual': y_test,\n",
    "    'Predicted': y_pred\n",
    "})\n",
    "\n",
    "# Display the DataFrame\n",
    "print(results_df)\n"
   ],
   "metadata": {
    "collapsed": false,
    "ExecuteTime": {
     "end_time": "2024-02-05T02:22:01.706610500Z",
     "start_time": "2024-02-05T02:22:01.693961800Z"
    }
   },
   "id": "7614e1d59106adcc"
  },
  {
   "cell_type": "markdown",
   "source": [
    "# <center> Accuracy and Precision </center> #\n",
    "\n",
    "The code below calculates the accuracy and precision of the model. The model accurately classified approximately 97.91% of the instances across both spam and non-spam categories.\n",
    "\n",
    "The precision score of 0.9855 further emphasizes the model's precision in correctly identifying spam emails. This metric reflects the ratio of true positive predictions to the sum of true positives and false positives, revealing that the model has a high precision rate of 98.55%.\n",
    "\n",
    "The recall score, also known as sensitivity, measures the model's ability to capture all positive instances. With a recall score of 0.9657, the model demonstrated a robust capability to identify a significant portion (approximately 96.57%) of the actual spam emails within the dataset.\n",
    "\n",
    "The F1 score, a harmonized metric of precision and recall, is calculated at 0.9748, indicating a balanced performance between precision and recall. This underscores the model's capacity to maintain a favorable balance between minimizing false positives and capturing true positives.\n",
    "\n",
    "Collectively, these metrics paint a comprehensive picture of the model's excellence in discriminating between spam and non-spam emails, showcasing its high accuracy, precision, recall, and a harmonized F1 score. Such performance attributes are indicative of a well-calibrated and reliable email spam detection model."
   ],
   "metadata": {
    "collapsed": false
   },
   "id": "9f7be66b1774862e"
  },
  {
   "cell_type": "code",
   "execution_count": 160,
   "outputs": [
    {
     "name": "stdout",
     "output_type": "stream",
     "text": [
      "Confusion Matrix:\n",
      " [[768   0]\n",
      " [ 23 312]]\n",
      "\n",
      "Accuracy Score: 0.9791477787851315\n",
      "\n",
      "Precision Score: 0.9854614412136535\n",
      "\n",
      "Recall Score: 0.9656716417910447\n",
      "\n",
      "F1 Score: 0.9748491334654541\n",
      "\n",
      "Classification Report:\n",
      "               precision    recall  f1-score   support\n",
      "\n",
      "           0       0.97      1.00      0.99       768\n",
      "           1       1.00      0.93      0.96       335\n",
      "\n",
      "    accuracy                           0.98      1103\n",
      "   macro avg       0.99      0.97      0.97      1103\n",
      "weighted avg       0.98      0.98      0.98      1103\n"
     ]
    }
   ],
   "source": [
    "from sklearn.metrics import confusion_matrix, accuracy_score, precision_score, recall_score, f1_score, classification_report\n",
    "\n",
    "# Evaluating the model\n",
    "conf_matrix = confusion_matrix(y_test, y_pred)\n",
    "accuracy = accuracy_score(y_test, y_pred)\n",
    "precision = precision_score(y_test, y_pred, average='macro', zero_division=0)\n",
    "recall = recall_score(y_test, y_pred, average='macro', zero_division=0)\n",
    "f1 = f1_score(y_test, y_pred, average='macro', zero_division=0)\n",
    "\n",
    "report = classification_report(y_test, y_pred)\n",
    "\n",
    "print(\"Confusion Matrix:\\n\", conf_matrix)\n",
    "print(\"\\nAccuracy Score:\", accuracy)\n",
    "print(\"\\nPrecision Score:\", precision)\n",
    "print(\"\\nRecall Score:\", recall)\n",
    "print(\"\\nF1 Score:\", f1)\n",
    "\n",
    "print(\"\\nClassification Report:\\n\", report)\n"
   ],
   "metadata": {
    "collapsed": false,
    "ExecuteTime": {
     "end_time": "2024-02-05T02:22:01.769934Z",
     "start_time": "2024-02-05T02:22:01.719034Z"
    }
   },
   "id": "b78ca55c8d27d7b1"
  },
  {
   "cell_type": "markdown",
   "source": [
    "# <center> Confusion Matrix </center> #\n",
    "Our confusion matrix is a 2x2 matrix that breaks down the predictions into four categories: \n",
    "* True Positives (Actual: 1, Predict: 1) \n",
    "* True Negatives (Actual: 0, Predict: 0) \n",
    "* False Positives (Actual: 0, Predict: 1) \n",
    "* False Negatives (Actual: 1, Predict 0). \n",
    "\n",
    "In our case, it's noteworthy that there are no false positives (FP = 0), indicating that the model correctly identified all non-spam emails. However, there are 23 false negatives (FN = 23), signifying instances where the model failed to classify spam emails correctly. This information is crucial for understanding the strengths and weaknesses of the model. In the scope of the data, 23 false negatives is a very low number. \n",
    "\n",
    "23/5512 * 100 = 0.42% false negative rate."
   ],
   "metadata": {
    "collapsed": false
   },
   "id": "e4051a3f10dc4cbb"
  },
  {
   "cell_type": "code",
   "execution_count": 161,
   "outputs": [
    {
     "data": {
      "text/plain": "<Figure size 800x600 with 2 Axes>",
      "image/png": "[encoded data removed]"
     },
     "metadata": {},
     "output_type": "display_data"
    }
   ],
   "source": [
    "# Plotting the confusion matrix\n",
    "plt.figure(figsize=(8, 6))\n",
    "sns.heatmap(conf_matrix, annot=True, cmap=\"Blues\")\n",
    "plt.title(\"Confusion Matrix\")\n",
    "plt.xlabel(\"Predicted Class\")\n",
    "plt.ylabel(\"Actual Class\")\n",
    "plt.show()\n"
   ],
   "metadata": {
    "collapsed": false,
    "ExecuteTime": {
     "end_time": "2024-02-05T02:22:02.080583600Z",
     "start_time": "2024-02-05T02:22:01.803515200Z"
    }
   },
   "id": "6127ea7c61febf66"
  },
  {
   "cell_type": "markdown",
   "source": [
    "# <center> ROC/AUC Curve </center> #\n",
    "The Receiver Operating Characteristic (ROC) curve is a graphical representation of the performance of a classification model across various discrimination thresholds. In the context of our email spam detection model, the ROC curve visually illustrates the trade-off between true positive rate (sensitivity) and false positive rate (1-specificity). The curve showcases the model's ability to distinguish between spam and non-spam emails across different decision thresholds.\n",
    "\n",
    "The Area Under the Curve (AUC) for our ROC curve is an impressive 0.97, indicating a high level of discriminatory power and overall model performance. A higher AUC suggests that the model has a robust ability to correctly classify positive instances (spam) while minimizing false positives (non-spam misclassifications). This strong AUC underscores the effectiveness of the Naive Bayes model in distinguishing between spam and non-spam emails, making it a reliable tool for email classification. As a key performance metric, the ROC curve and AUC provide valuable insights into the model's accuracy and generalization capabilities."
   ],
   "metadata": {
    "collapsed": false
   },
   "id": "cb788bea79a60e35"
  },
  {
   "cell_type": "code",
   "execution_count": 162,
   "outputs": [
    {
     "name": "stdout",
     "output_type": "stream",
     "text": [
      "Unique classes in y_test: [0 1]\n",
      "Shape of y_test_binarized: (1103, 1)\n",
      "Shape of predictions_binarized: (1103, 1)\n",
      "ROC AUC Score: 0.9656716417910447\n"
     ]
    }
   ],
   "source": [
    "from sklearn.metrics import roc_auc_score\n",
    "from sklearn.preprocessing import label_binarize\n",
    "import numpy as np\n",
    "\n",
    "# Binarize the output\n",
    "y_test_binarized = label_binarize(y_test, classes=np.unique(y_test))\n",
    "predictions_binarized = label_binarize(y_pred, classes=np.unique(y_test))\n",
    "\n",
    "# Checking the unique classes in y_test\n",
    "print(\"Unique classes in y_test:\", np.unique(y_test))\n",
    "\n",
    "# Checking the shape of y_test_binarized and predictions_binarized\n",
    "print(\"Shape of y_test_binarized:\", y_test_binarized.shape)\n",
    "print(\"Shape of predictions_binarized:\", predictions_binarized.shape)\n",
    "\n",
    "# Calculating ROC AUC Score for multi-class\n",
    "auc_score = roc_auc_score(y_test_binarized, predictions_binarized, multi_class='ovr')\n",
    "\n",
    "print(\"ROC AUC Score:\", auc_score)"
   ],
   "metadata": {
    "collapsed": false,
    "ExecuteTime": {
     "end_time": "2024-02-05T02:22:02.102817Z",
     "start_time": "2024-02-05T02:22:02.087581Z"
    }
   },
   "id": "14722e225ecaae7a"
  },
  {
   "cell_type": "code",
   "execution_count": 163,
   "outputs": [
    {
     "data": {
      "text/plain": "<Figure size 800x600 with 1 Axes>",
      "image/png": "[encoded data removed]"
     },
     "metadata": {},
     "output_type": "display_data"
    }
   ],
   "source": [
    "from sklearn.metrics import roc_curve, auc\n",
    "import matplotlib.pyplot as plt\n",
    "import numpy as np\n",
    "\n",
    "# Assuming y_test and predictions are for a multi-class problem\n",
    "n_classes = y_test_binarized.shape[1]\n",
    "\n",
    "# Plotting ROC Curve for each class\n",
    "plt.figure(figsize=(8, 6))\n",
    "\n",
    "for i in range(n_classes):\n",
    "    fpr, tpr, _ = roc_curve(y_test_binarized[:, i], predictions_binarized[:, i])\n",
    "    roc_auc = auc(fpr, tpr)\n",
    "    plt.plot(fpr, tpr, label=f'Class {i} ROC curve (area = {roc_auc:.2f})')\n",
    "\n",
    "plt.plot([0, 1], [0, 1], 'k--')\n",
    "plt.xlim([0.0, 1.05])\n",
    "plt.ylim([0.0, 1.05])\n",
    "plt.xlabel('False Positive Rate')\n",
    "plt.ylabel('True Positive Rate')\n",
    "plt.title('Receiver Operating Characteristic for Multi-Class')\n",
    "plt.legend(loc=\"lower right\")\n",
    "plt.show()\n"
   ],
   "metadata": {
    "collapsed": false,
    "ExecuteTime": {
     "end_time": "2024-02-05T02:22:02.341912Z",
     "start_time": "2024-02-05T02:22:02.115221100Z"
    }
   },
   "id": "1f3422a9ff2b8f18"
  },
  {
   "cell_type": "markdown",
   "source": [
    "# <center> Model Validation </center> #\n",
    "Performance Metrics:\n",
    "The model's performance was comprehensively evaluated using key metrics derived from the confusion matrix, including accuracy, precision, recall, and F1 score. These metrics collectively provide a nuanced understanding of the model's ability to correctly classify both spam and non-spam instances.\n",
    "\n",
    "Confusion Matrix Analysis:\n",
    "The confusion matrix, a vital diagnostic tool, revealed the model's proficiency in distinguishing between spam and non-spam emails. With a minimal count of false positives (FP = 0) and a modest count of false negatives (FN = 23), the model demonstrated a high precision rate, suggesting a low likelihood of misclassifying non-spam instances.\n",
    "\n",
    "Accuracy and AUC:\n",
    "The accuracy score, computed at 0.9791, underscores the model's overall correctness in classification. Additionally, the Area Under the ROC Curve (AUC) reached an impressive 0.97, further validating the model's discriminatory power and its ability to differentiate between spam and non-spam instances across varying decision thresholds.\n",
    "\n",
    "Limitations and Future Considerations:\n",
    "While the model demonstrates strong performance, it is essential to acknowledge potential limitations, such as variations in email data distribution and the evolving nature of spam. Continuous monitoring and periodic updates to the model are recommended to ensure its sustained effectiveness against emerging spam patterns.\n",
    "\n",
    "In summary, the validation process substantiates the Multinomial Naive Bayes model's efficacy in email spam detection, as evidenced by robust performance metrics and a thorough analysis of its generalization capabilities.\n"
   ],
   "metadata": {
    "collapsed": false
   },
   "id": "2e93cf2088a2ba41"
  },
  {
   "cell_type": "markdown",
   "source": [
    "## <center> Analysis & Errors </center> ##\n",
    "\n",
    "Despite the impressive overall performance of the email spam detection model, it's crucial to acknowledge and interpret the inherent errors that arise during the classification process. The false negative rate, calculated at 0.42%, represents instances where the model incorrectly predicted a non-spam email as spam. While this rate is relatively low, it highlights the model's potential to occasionally overlook actual spam emails, posing a minor risk of false negatives in email categorization. Understanding and addressing such errors is essential for fine-tuning the model and ensuring its continuous improvement. By delving into the nuances of these errors, we can refine the model's sensitivity to better capture subtle variations in spam patterns and further enhance its overall accuracy."
   ],
   "metadata": {
    "collapsed": false
   },
   "id": "5b93f33bc6a2ae37"
  },
  {
   "cell_type": "markdown",
   "source": [
    "## <center> Christian Worldview </center> ##\n",
    "In the context of the Email Spam Prediction project, a Christian worldview underscores the importance of ethical considerations and responsible use of technology. Proverbs 2:11 (NIV) states, \"Discretion will protect you, and understanding will guard you.\" This verse emphasizes the value of discernment and wisdom in decision-making. \n",
    "Applying this worldview to the project, we recognize the responsibility to create tools and models that serve not only technological efficiency but also align with ethical principles. In the realm of email spam prediction, it calls for a commitment to safeguarding users from unwanted or potentially harmful content, reflecting a Christian ethos of caring for others. As we develop and optimize the model, we aspire to embody the values of discernment, understanding, and protection, ensuring that our technological endeavors align with a Christian worldview rooted in compassion and ethical considerations."
   ],
   "metadata": {
    "collapsed": false
   },
   "id": "c141a9357fa7de1c"
  },
  {
   "cell_type": "markdown",
   "source": [
    "## <center> References </center> ##\n",
    "Bharathi, N. (2020, October 30). Email Spam Dataset. Kaggle. https://www.kaggle.com/datasets/nitishabharathi/email-spam-dataset?resource=download \n",
    "\n",
    "GeeksforGeeks. (2024, January 28). Multinomial naive Bayes. GeeksforGeeks. https://www.geeksforgeeks.org/multinomial-naive-bayes/ \n",
    "\n",
    "New International Version (2011). Proverbs 2:11. Retrieved from https://www.biblegateway.com/passage/?search=Proverbs+2%3A11&version=NIV"
   ],
   "metadata": {
    "collapsed": false
   },
   "id": "102ff5fa717547ca"
  }
 ],
 "metadata": {
  "kernelspec": {
   "display_name": "Python 3",
   "language": "python",
   "name": "python3"
  },
  "language_info": {
   "codemirror_mode": {
    "name": "ipython",
    "version": 2
   },
   "file_extension": ".py",
   "mimetype": "text/x-python",
   "name": "python",
   "nbconvert_exporter": "python",
   "pygments_lexer": "ipython2",
   "version": "2.7.6"
  }
 },
 "nbformat": 4,
 "nbformat_minor": 5
}
